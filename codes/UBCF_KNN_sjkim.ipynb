{
 "cells": [
  {
   "cell_type": "code",
   "execution_count": 1,
   "metadata": {},
   "outputs": [],
   "source": [
    "import pickle\n",
    "import pandas as pd\n",
    "import numpy as np"
   ]
  },
  {
   "attachments": {},
   "cell_type": "markdown",
   "metadata": {},
   "source": [
    "## 데이터 불러오기"
   ]
  },
  {
   "cell_type": "code",
   "execution_count": 2,
   "metadata": {},
   "outputs": [
    {
     "data": {
      "text/html": [
       "<div>\n",
       "<style scoped>\n",
       "    .dataframe tbody tr th:only-of-type {\n",
       "        vertical-align: middle;\n",
       "    }\n",
       "\n",
       "    .dataframe tbody tr th {\n",
       "        vertical-align: top;\n",
       "    }\n",
       "\n",
       "    .dataframe thead th {\n",
       "        text-align: right;\n",
       "    }\n",
       "</style>\n",
       "<table border=\"1\" class=\"dataframe\">\n",
       "  <thead>\n",
       "    <tr style=\"text-align: right;\">\n",
       "      <th></th>\n",
       "      <th>year</th>\n",
       "      <th>country</th>\n",
       "      <th>품목코드</th>\n",
       "      <th>수출금액</th>\n",
       "      <th>GDP</th>\n",
       "      <th>preference</th>\n",
       "      <th>GDP_growth</th>\n",
       "      <th>population</th>\n",
       "      <th>pop_growth</th>\n",
       "      <th>USD</th>\n",
       "      <th>JPY</th>\n",
       "      <th>EUR</th>\n",
       "      <th>CNY</th>\n",
       "    </tr>\n",
       "  </thead>\n",
       "  <tbody>\n",
       "    <tr>\n",
       "      <th>0</th>\n",
       "      <td>2012</td>\n",
       "      <td>Afghanistan</td>\n",
       "      <td>3.0</td>\n",
       "      <td>1.0</td>\n",
       "      <td>2.020357e+07</td>\n",
       "      <td>4.949620e-08</td>\n",
       "      <td>NaN</td>\n",
       "      <td>30466479.0</td>\n",
       "      <td>NaN</td>\n",
       "      <td>1126.43</td>\n",
       "      <td>1412.96</td>\n",
       "      <td>1447.58</td>\n",
       "      <td>178.52</td>\n",
       "    </tr>\n",
       "    <tr>\n",
       "      <th>1</th>\n",
       "      <td>2012</td>\n",
       "      <td>Afghanistan</td>\n",
       "      <td>4.0</td>\n",
       "      <td>0.0</td>\n",
       "      <td>2.020357e+07</td>\n",
       "      <td>0.000000e+00</td>\n",
       "      <td>NaN</td>\n",
       "      <td>30466479.0</td>\n",
       "      <td>NaN</td>\n",
       "      <td>1126.43</td>\n",
       "      <td>1412.96</td>\n",
       "      <td>1447.58</td>\n",
       "      <td>178.52</td>\n",
       "    </tr>\n",
       "    <tr>\n",
       "      <th>2</th>\n",
       "      <td>2012</td>\n",
       "      <td>Afghanistan</td>\n",
       "      <td>7.0</td>\n",
       "      <td>2.0</td>\n",
       "      <td>2.020357e+07</td>\n",
       "      <td>9.899239e-08</td>\n",
       "      <td>NaN</td>\n",
       "      <td>30466479.0</td>\n",
       "      <td>NaN</td>\n",
       "      <td>1126.43</td>\n",
       "      <td>1412.96</td>\n",
       "      <td>1447.58</td>\n",
       "      <td>178.52</td>\n",
       "    </tr>\n",
       "    <tr>\n",
       "      <th>3</th>\n",
       "      <td>2012</td>\n",
       "      <td>Afghanistan</td>\n",
       "      <td>8.0</td>\n",
       "      <td>0.0</td>\n",
       "      <td>2.020357e+07</td>\n",
       "      <td>0.000000e+00</td>\n",
       "      <td>NaN</td>\n",
       "      <td>30466479.0</td>\n",
       "      <td>NaN</td>\n",
       "      <td>1126.43</td>\n",
       "      <td>1412.96</td>\n",
       "      <td>1447.58</td>\n",
       "      <td>178.52</td>\n",
       "    </tr>\n",
       "    <tr>\n",
       "      <th>4</th>\n",
       "      <td>2012</td>\n",
       "      <td>Afghanistan</td>\n",
       "      <td>10.0</td>\n",
       "      <td>12.0</td>\n",
       "      <td>2.020357e+07</td>\n",
       "      <td>5.939543e-07</td>\n",
       "      <td>NaN</td>\n",
       "      <td>30466479.0</td>\n",
       "      <td>NaN</td>\n",
       "      <td>1126.43</td>\n",
       "      <td>1412.96</td>\n",
       "      <td>1447.58</td>\n",
       "      <td>178.52</td>\n",
       "    </tr>\n",
       "    <tr>\n",
       "      <th>...</th>\n",
       "      <td>...</td>\n",
       "      <td>...</td>\n",
       "      <td>...</td>\n",
       "      <td>...</td>\n",
       "      <td>...</td>\n",
       "      <td>...</td>\n",
       "      <td>...</td>\n",
       "      <td>...</td>\n",
       "      <td>...</td>\n",
       "      <td>...</td>\n",
       "      <td>...</td>\n",
       "      <td>...</td>\n",
       "      <td>...</td>\n",
       "    </tr>\n",
       "    <tr>\n",
       "      <th>116390</th>\n",
       "      <td>2021</td>\n",
       "      <td>Zimbabwe</td>\n",
       "      <td>87.0</td>\n",
       "      <td>1289.0</td>\n",
       "      <td>2.837124e+07</td>\n",
       "      <td>4.543334e-05</td>\n",
       "      <td>0.318998</td>\n",
       "      <td>15993524.0</td>\n",
       "      <td>0.020668</td>\n",
       "      <td>1145.07</td>\n",
       "      <td>1041.92</td>\n",
       "      <td>1353.40</td>\n",
       "      <td>177.56</td>\n",
       "    </tr>\n",
       "    <tr>\n",
       "      <th>116391</th>\n",
       "      <td>2021</td>\n",
       "      <td>Zimbabwe</td>\n",
       "      <td>90.0</td>\n",
       "      <td>322.0</td>\n",
       "      <td>2.837124e+07</td>\n",
       "      <td>1.134952e-05</td>\n",
       "      <td>0.318998</td>\n",
       "      <td>15993524.0</td>\n",
       "      <td>0.020668</td>\n",
       "      <td>1145.07</td>\n",
       "      <td>1041.92</td>\n",
       "      <td>1353.40</td>\n",
       "      <td>177.56</td>\n",
       "    </tr>\n",
       "    <tr>\n",
       "      <th>116392</th>\n",
       "      <td>2021</td>\n",
       "      <td>Zimbabwe</td>\n",
       "      <td>94.0</td>\n",
       "      <td>1.0</td>\n",
       "      <td>2.837124e+07</td>\n",
       "      <td>3.524696e-08</td>\n",
       "      <td>0.318998</td>\n",
       "      <td>15993524.0</td>\n",
       "      <td>0.020668</td>\n",
       "      <td>1145.07</td>\n",
       "      <td>1041.92</td>\n",
       "      <td>1353.40</td>\n",
       "      <td>177.56</td>\n",
       "    </tr>\n",
       "    <tr>\n",
       "      <th>116393</th>\n",
       "      <td>2021</td>\n",
       "      <td>Zimbabwe</td>\n",
       "      <td>95.0</td>\n",
       "      <td>13.0</td>\n",
       "      <td>2.837124e+07</td>\n",
       "      <td>4.582105e-07</td>\n",
       "      <td>0.318998</td>\n",
       "      <td>15993524.0</td>\n",
       "      <td>0.020668</td>\n",
       "      <td>1145.07</td>\n",
       "      <td>1041.92</td>\n",
       "      <td>1353.40</td>\n",
       "      <td>177.56</td>\n",
       "    </tr>\n",
       "    <tr>\n",
       "      <th>116394</th>\n",
       "      <td>2021</td>\n",
       "      <td>Zimbabwe</td>\n",
       "      <td>96.0</td>\n",
       "      <td>19.0</td>\n",
       "      <td>2.837124e+07</td>\n",
       "      <td>6.696923e-07</td>\n",
       "      <td>0.318998</td>\n",
       "      <td>15993524.0</td>\n",
       "      <td>0.020668</td>\n",
       "      <td>1145.07</td>\n",
       "      <td>1041.92</td>\n",
       "      <td>1353.40</td>\n",
       "      <td>177.56</td>\n",
       "    </tr>\n",
       "  </tbody>\n",
       "</table>\n",
       "<p>116395 rows × 13 columns</p>\n",
       "</div>"
      ],
      "text/plain": [
       "        year      country  품목코드    수출금액           GDP    preference  \\\n",
       "0       2012  Afghanistan   3.0     1.0  2.020357e+07  4.949620e-08   \n",
       "1       2012  Afghanistan   4.0     0.0  2.020357e+07  0.000000e+00   \n",
       "2       2012  Afghanistan   7.0     2.0  2.020357e+07  9.899239e-08   \n",
       "3       2012  Afghanistan   8.0     0.0  2.020357e+07  0.000000e+00   \n",
       "4       2012  Afghanistan  10.0    12.0  2.020357e+07  5.939543e-07   \n",
       "...      ...          ...   ...     ...           ...           ...   \n",
       "116390  2021     Zimbabwe  87.0  1289.0  2.837124e+07  4.543334e-05   \n",
       "116391  2021     Zimbabwe  90.0   322.0  2.837124e+07  1.134952e-05   \n",
       "116392  2021     Zimbabwe  94.0     1.0  2.837124e+07  3.524696e-08   \n",
       "116393  2021     Zimbabwe  95.0    13.0  2.837124e+07  4.582105e-07   \n",
       "116394  2021     Zimbabwe  96.0    19.0  2.837124e+07  6.696923e-07   \n",
       "\n",
       "        GDP_growth  population  pop_growth      USD      JPY      EUR     CNY  \n",
       "0              NaN  30466479.0         NaN  1126.43  1412.96  1447.58  178.52  \n",
       "1              NaN  30466479.0         NaN  1126.43  1412.96  1447.58  178.52  \n",
       "2              NaN  30466479.0         NaN  1126.43  1412.96  1447.58  178.52  \n",
       "3              NaN  30466479.0         NaN  1126.43  1412.96  1447.58  178.52  \n",
       "4              NaN  30466479.0         NaN  1126.43  1412.96  1447.58  178.52  \n",
       "...            ...         ...         ...      ...      ...      ...     ...  \n",
       "116390    0.318998  15993524.0    0.020668  1145.07  1041.92  1353.40  177.56  \n",
       "116391    0.318998  15993524.0    0.020668  1145.07  1041.92  1353.40  177.56  \n",
       "116392    0.318998  15993524.0    0.020668  1145.07  1041.92  1353.40  177.56  \n",
       "116393    0.318998  15993524.0    0.020668  1145.07  1041.92  1353.40  177.56  \n",
       "116394    0.318998  15993524.0    0.020668  1145.07  1041.92  1353.40  177.56  \n",
       "\n",
       "[116395 rows x 13 columns]"
      ]
     },
     "execution_count": 2,
     "metadata": {},
     "output_type": "execute_result"
    }
   ],
   "source": [
    "# pickle 파일 불러오기\n",
    "with open('../processed/export_GDP_pop_fx.pkl', 'rb') as f:\n",
    "    ratings_all = pickle.load(f)\n",
    "\n",
    "ratings_all"
   ]
  },
  {
   "cell_type": "code",
   "execution_count": 3,
   "metadata": {},
   "outputs": [
    {
     "data": {
      "text/html": [
       "<div>\n",
       "<style scoped>\n",
       "    .dataframe tbody tr th:only-of-type {\n",
       "        vertical-align: middle;\n",
       "    }\n",
       "\n",
       "    .dataframe tbody tr th {\n",
       "        vertical-align: top;\n",
       "    }\n",
       "\n",
       "    .dataframe thead th {\n",
       "        text-align: right;\n",
       "    }\n",
       "</style>\n",
       "<table border=\"1\" class=\"dataframe\">\n",
       "  <thead>\n",
       "    <tr style=\"text-align: right;\">\n",
       "      <th></th>\n",
       "      <th>country_id</th>\n",
       "      <th>item_id</th>\n",
       "      <th>preference</th>\n",
       "    </tr>\n",
       "  </thead>\n",
       "  <tbody>\n",
       "    <tr>\n",
       "      <th>0</th>\n",
       "      <td>0</td>\n",
       "      <td>3</td>\n",
       "      <td>4.949620e-08</td>\n",
       "    </tr>\n",
       "    <tr>\n",
       "      <th>1</th>\n",
       "      <td>0</td>\n",
       "      <td>4</td>\n",
       "      <td>0.000000e+00</td>\n",
       "    </tr>\n",
       "    <tr>\n",
       "      <th>2</th>\n",
       "      <td>0</td>\n",
       "      <td>7</td>\n",
       "      <td>9.899239e-08</td>\n",
       "    </tr>\n",
       "    <tr>\n",
       "      <th>3</th>\n",
       "      <td>0</td>\n",
       "      <td>8</td>\n",
       "      <td>0.000000e+00</td>\n",
       "    </tr>\n",
       "    <tr>\n",
       "      <th>4</th>\n",
       "      <td>0</td>\n",
       "      <td>10</td>\n",
       "      <td>5.939543e-07</td>\n",
       "    </tr>\n",
       "    <tr>\n",
       "      <th>...</th>\n",
       "      <td>...</td>\n",
       "      <td>...</td>\n",
       "      <td>...</td>\n",
       "    </tr>\n",
       "    <tr>\n",
       "      <th>11021</th>\n",
       "      <td>202</td>\n",
       "      <td>91</td>\n",
       "      <td>0.000000e+00</td>\n",
       "    </tr>\n",
       "    <tr>\n",
       "      <th>11022</th>\n",
       "      <td>202</td>\n",
       "      <td>94</td>\n",
       "      <td>0.000000e+00</td>\n",
       "    </tr>\n",
       "    <tr>\n",
       "      <th>11023</th>\n",
       "      <td>202</td>\n",
       "      <td>95</td>\n",
       "      <td>8.764319e-07</td>\n",
       "    </tr>\n",
       "    <tr>\n",
       "      <th>11024</th>\n",
       "      <td>202</td>\n",
       "      <td>96</td>\n",
       "      <td>1.869721e-06</td>\n",
       "    </tr>\n",
       "    <tr>\n",
       "      <th>11025</th>\n",
       "      <td>202</td>\n",
       "      <td>97</td>\n",
       "      <td>0.000000e+00</td>\n",
       "    </tr>\n",
       "  </tbody>\n",
       "</table>\n",
       "<p>11026 rows × 3 columns</p>\n",
       "</div>"
      ],
      "text/plain": [
       "       country_id  item_id    preference\n",
       "0               0        3  4.949620e-08\n",
       "1               0        4  0.000000e+00\n",
       "2               0        7  9.899239e-08\n",
       "3               0        8  0.000000e+00\n",
       "4               0       10  5.939543e-07\n",
       "...           ...      ...           ...\n",
       "11021         202       91  0.000000e+00\n",
       "11022         202       94  0.000000e+00\n",
       "11023         202       95  8.764319e-07\n",
       "11024         202       96  1.869721e-06\n",
       "11025         202       97  0.000000e+00\n",
       "\n",
       "[11026 rows x 3 columns]"
      ]
     },
     "execution_count": 3,
     "metadata": {},
     "output_type": "execute_result"
    }
   ],
   "source": [
    "ratings = ratings_all[ratings_all['year']==2012]\n",
    "ratings = ratings[['country', '품목코드', 'preference']]\n",
    "# column명 변경\n",
    "ratings.columns=['country_id', 'item_id', 'preference']\n",
    "\n",
    "# country에 고유번호 부여하기\n",
    "country_to_idx = {v:k for k,v in enumerate(ratings['country_id'].unique())}\n",
    "idx_to_country = {v:k for k,v in country_to_idx.items()}\n",
    "\n",
    "# country_id를 고유번호로 바꾸기\n",
    "ratings['country_id'] = ratings['country_id'].map(country_to_idx)\n",
    "\n",
    "# item_id int로 바꾸기\n",
    "ratings['item_id'] = ratings['item_id'].astype(int)\n",
    "\n",
    "# 중복제거\n",
    "ratings = ratings.drop_duplicates(['country_id', 'item_id'], keep='first')\n",
    "\n",
    "# index reset\n",
    "ratings.reset_index(drop=True, inplace=True)\n",
    "ratings\n"
   ]
  },
  {
   "cell_type": "code",
   "execution_count": 4,
   "metadata": {},
   "outputs": [
    {
     "data": {
      "text/html": [
       "<div>\n",
       "<style scoped>\n",
       "    .dataframe tbody tr th:only-of-type {\n",
       "        vertical-align: middle;\n",
       "    }\n",
       "\n",
       "    .dataframe tbody tr th {\n",
       "        vertical-align: top;\n",
       "    }\n",
       "\n",
       "    .dataframe thead th {\n",
       "        text-align: right;\n",
       "    }\n",
       "</style>\n",
       "<table border=\"1\" class=\"dataframe\">\n",
       "  <thead>\n",
       "    <tr style=\"text-align: right;\">\n",
       "      <th></th>\n",
       "      <th>country_id</th>\n",
       "      <th>item_id</th>\n",
       "      <th>preference</th>\n",
       "    </tr>\n",
       "  </thead>\n",
       "  <tbody>\n",
       "    <tr>\n",
       "      <th>count</th>\n",
       "      <td>11026.000000</td>\n",
       "      <td>11026.000000</td>\n",
       "      <td>1.102600e+04</td>\n",
       "    </tr>\n",
       "    <tr>\n",
       "      <th>mean</th>\n",
       "      <td>103.854707</td>\n",
       "      <td>51.162253</td>\n",
       "      <td>2.220137e-04</td>\n",
       "    </tr>\n",
       "    <tr>\n",
       "      <th>std</th>\n",
       "      <td>57.936512</td>\n",
       "      <td>26.954398</td>\n",
       "      <td>3.713710e-03</td>\n",
       "    </tr>\n",
       "    <tr>\n",
       "      <th>min</th>\n",
       "      <td>0.000000</td>\n",
       "      <td>1.000000</td>\n",
       "      <td>0.000000e+00</td>\n",
       "    </tr>\n",
       "    <tr>\n",
       "      <th>25%</th>\n",
       "      <td>55.000000</td>\n",
       "      <td>29.000000</td>\n",
       "      <td>7.961139e-08</td>\n",
       "    </tr>\n",
       "    <tr>\n",
       "      <th>50%</th>\n",
       "      <td>102.500000</td>\n",
       "      <td>52.000000</td>\n",
       "      <td>1.914137e-06</td>\n",
       "    </tr>\n",
       "    <tr>\n",
       "      <th>75%</th>\n",
       "      <td>150.000000</td>\n",
       "      <td>73.000000</td>\n",
       "      <td>2.045958e-05</td>\n",
       "    </tr>\n",
       "    <tr>\n",
       "      <th>max</th>\n",
       "      <td>202.000000</td>\n",
       "      <td>97.000000</td>\n",
       "      <td>2.723372e-01</td>\n",
       "    </tr>\n",
       "  </tbody>\n",
       "</table>\n",
       "</div>"
      ],
      "text/plain": [
       "         country_id       item_id    preference\n",
       "count  11026.000000  11026.000000  1.102600e+04\n",
       "mean     103.854707     51.162253  2.220137e-04\n",
       "std       57.936512     26.954398  3.713710e-03\n",
       "min        0.000000      1.000000  0.000000e+00\n",
       "25%       55.000000     29.000000  7.961139e-08\n",
       "50%      102.500000     52.000000  1.914137e-06\n",
       "75%      150.000000     73.000000  2.045958e-05\n",
       "max      202.000000     97.000000  2.723372e-01"
      ]
     },
     "execution_count": 4,
     "metadata": {},
     "output_type": "execute_result"
    }
   ],
   "source": [
    "ratings.describe()"
   ]
  },
  {
   "attachments": {},
   "cell_type": "markdown",
   "metadata": {},
   "source": [
    "## UBCF_KNN 적용하기"
   ]
  },
  {
   "cell_type": "code",
   "execution_count": 5,
   "metadata": {},
   "outputs": [],
   "source": [
    "# Rating 데이터를 test, train으로 나누고 train을 full matrix로 변환\n",
    "from sklearn.model_selection import train_test_split\n",
    "x = ratings.copy()\n",
    "y = ratings['country_id']\n",
    "x_train, x_test, y_train, y_test = train_test_split(x, y, test_size=0.25, stratify=y, random_state=12)\n",
    "rating_matrix = x_train.pivot(values='preference', index='country_id', columns='item_id')\n",
    "\n",
    "# Train set의 모든 국가 pair의 Cosine similarities 계산\n",
    "from sklearn.metrics.pairwise import cosine_similarity\n",
    "matrix_dummy = rating_matrix.copy().fillna(0)\n",
    "country_similarity = cosine_similarity(matrix_dummy, matrix_dummy)\n",
    "country_similarity = pd.DataFrame(country_similarity, index=rating_matrix.index, columns=rating_matrix.index)\n",
    "\n",
    "# RMSE 계산을 위한 함수\n",
    "def RMSE(y_true, y_pred):\n",
    "    import numpy as np\n",
    "    return np.sqrt(np.mean((np.array(y_true) - np.array(y_pred))**2))\n",
    "\n",
    "def score(model, k=10): \n",
    "    id_pairs = zip(x_test['country_id'], x_test['item_id'])\n",
    "    y_pred = np.array([model(country, item, k) for (country, item) in id_pairs])\n",
    "    y_true = np.array(x_test['preference'])\n",
    "    return RMSE(y_true, y_pred)"
   ]
  },
  {
   "cell_type": "code",
   "execution_count": 30,
   "metadata": {},
   "outputs": [],
   "source": [
    "# Neighbor size를 고려하는 추천\n",
    "def cf_knn(country_id, item_id, neighbor_size=14): # k 디폴트 값 14(최적 K값)\n",
    "    import numpy as np\n",
    "    if item_id in rating_matrix:\n",
    "        sim_scores = country_similarity[country_id]                   # 현재 국가와 다른 전체 국가 간의 similarity 가져오기\n",
    "        item_ratings = rating_matrix[item_id]                         # 현재 품목에 대한 모든 국가의 선호도값 가져오기\n",
    "        none_rating_idx = item_ratings[item_ratings.isnull()].index   # 현재 품목에 대한 선호도가 없는 국가의 index 가져오기\n",
    "        item_ratings = item_ratings.drop(none_rating_idx)             # 현재 품목에 대한 선호도가 없는 국가의 preference 값 제거\n",
    "        sim_scores = sim_scores.drop(none_rating_idx)                 # 현재 품목에 대한 선호도가 없는 국가의 similarity값 제거(가중평균 계산할 때 필요 없기 때문)\n",
    "\n",
    "        if neighbor_size == 0:    # Neighbor size가 지정되지 않은 경우 -> KNN 사용하지 않겠다는 의미\n",
    "            # 현재 품목을 평가한 모든 국가의 가중 평균값 구하기\n",
    "            mean_rating = np.dot(sim_scores, item_ratings) / (sim_scores.sum() + 0.0001)  # rating 존재하는 모든 국가 사용(simple CF사용)\n",
    "        else:    # Neighbor size가 지정된 경우\n",
    "            # if len(sim_scores) > 1 :\n",
    "            neighbor_size = min(neighbor_size, len(sim_scores))          # 내가 지정한 K 숫자보다 품목 선호도가 있는 국가의 수가 적을 수 있음. 그럴 때, 지정된 neighbor size 값과 해당 품목 선호도가 존재하는 총국가 수 중 작은 걸 K로 결정(에러방지)\n",
    "            sim_scores = np.array(sim_scores)                            # argsort()를 사용하기 위해서 array형식으로 바꿔주기\n",
    "            item_ratings = np.array(item_ratings)\n",
    "            country_idx = np.argsort(sim_scores)                         # 다른 국가를 유사도 순서대로 정렬(오름차순)\n",
    "            sim_scores = sim_scores[country_idx][-neighbor_size:]        # 가장 유사도가 높은 k개의 국가를 선정\n",
    "            item_ratings = item_ratings[country_idx][-neighbor_size:]    # 선정된 k개 국가의 주어진 품목(item_id)에 대한 평점을 추출한다\n",
    "            # 최종 예측값 계산\n",
    "            mean_rating = np.dot(sim_scores, item_ratings) / (sim_scores.sum() + 0.0001)  # 선정된 k 국가의 해당 품목에 대한 선호도를 유사도로 가중한 평점 평균 계산\n",
    "    else:\n",
    "        mean_rating = 0.000001914137   # train-set에 현재 품목에 대한 선호도가 없는 경우, 중간값을 기본값으로 지정\n",
    "    return mean_rating"
   ]
  },
  {
   "cell_type": "code",
   "execution_count": 14,
   "metadata": {},
   "outputs": [
    {
     "data": {
      "text/plain": [
       "0.0027487792369759725"
      ]
     },
     "execution_count": 14,
     "metadata": {},
     "output_type": "execute_result"
    }
   ],
   "source": [
    "score(cf_knn, 14)"
   ]
  },
  {
   "attachments": {},
   "cell_type": "markdown",
   "metadata": {},
   "source": [
    "#### RMSE 최적 K(=neighbor size) 찾기"
   ]
  },
  {
   "cell_type": "code",
   "execution_count": 10,
   "metadata": {},
   "outputs": [
    {
     "name": "stdout",
     "output_type": "stream",
     "text": [
      "[0.002754712437776498, 0.002755368957262389, 0.0027492908313713643, 0.0027493128213676604, 0.002748977162207784, 0.0027489949666726072]\n"
     ]
    }
   ],
   "source": [
    "RMSE_by_K = []\n",
    "Neighbor_size = []\n",
    "for K in range(5, 35, 5):\n",
    "    RMSE_by_K.append(score(cf_knn, K))\n",
    "    Neighbor_size.append(K)\n",
    "print(RMSE_by_K)"
   ]
  },
  {
   "cell_type": "code",
   "execution_count": 11,
   "metadata": {},
   "outputs": [
    {
     "data": {
      "image/png": "[encoded data removed]",
      "text/plain": [
       "<Figure size 640x480 with 1 Axes>"
      ]
     },
     "metadata": {},
     "output_type": "display_data"
    }
   ],
   "source": [
    "# Plot RMSE\n",
    "import matplotlib.pyplot as plt\n",
    "plt.plot(Neighbor_size, RMSE_by_K)\n",
    "plt.xlabel('Neighbor Size')\n",
    "plt.ylabel('RMSE')\n",
    "plt.show()"
   ]
  },
  {
   "cell_type": "code",
   "execution_count": 12,
   "metadata": {},
   "outputs": [
    {
     "name": "stdout",
     "output_type": "stream",
     "text": [
      "[0.0027554079849318592, 0.0027487792369759725, 0.0027492908313713643, 0.0027493524862772737, 0.0027482892032481333]\n"
     ]
    }
   ],
   "source": [
    "RMSE_by_K = []\n",
    "Neighbor_size = []\n",
    "for K in range(13, 18, 1):\n",
    "    RMSE_by_K.append(score(cf_knn, K))\n",
    "    Neighbor_size.append(K)\n",
    "print(RMSE_by_K)"
   ]
  },
  {
   "cell_type": "code",
   "execution_count": 13,
   "metadata": {},
   "outputs": [
    {
     "data": {
      "image/png": "[encoded data removed]",
      "text/plain": [
       "<Figure size 640x480 with 1 Axes>"
      ]
     },
     "metadata": {},
     "output_type": "display_data"
    }
   ],
   "source": [
    "plt.plot(Neighbor_size, RMSE_by_K)\n",
    "plt.xlabel('Neighbor Size')\n",
    "plt.ylabel('RMSE')\n",
    "plt.show()"
   ]
  },
  {
   "attachments": {},
   "cell_type": "markdown",
   "metadata": {},
   "source": [
    "#### --> 14일때 RMSE 최저"
   ]
  },
  {
   "attachments": {},
   "cell_type": "markdown",
   "metadata": {},
   "source": [
    "## ubcf_knn으로 추천해보기"
   ]
  },
  {
   "cell_type": "code",
   "execution_count": 15,
   "metadata": {},
   "outputs": [],
   "source": [
    "ratings = ratings_all[ratings_all['year']==2012]\n",
    "ratings = ratings[['country', '품목코드', 'preference']]\n",
    "# column명 변경\n",
    "ratings.columns=['country_id', 'item_id', 'preference']\n",
    "\n",
    "# country에 고유번호 부여하기\n",
    "country_to_idx = {v:k for k,v in enumerate(ratings['country_id'].unique())}\n",
    "idx_to_country = {v:k for k,v in country_to_idx.items()}\n",
    "\n",
    "# country_id를 고유번호로 바꾸기\n",
    "ratings['country_id'] = ratings['country_id'].map(country_to_idx)\n",
    "\n",
    "# item_id int로 바꾸기\n",
    "ratings['item_id'] = ratings['item_id'].astype(int)\n",
    "\n",
    "# 중복제거\n",
    "ratings = ratings.drop_duplicates(['country_id', 'item_id'], keep='first')\n",
    "\n",
    "# index reset\n",
    "ratings.reset_index(drop=True, inplace=True)\n",
    "\n",
    "# 품목 이름 가져오기\n",
    "items_df = pd.read_csv('/home/sjkim/추천공모전/data/item_name-code.csv')\n",
    "items_df.columns=['title', 'item_id']\n",
    "items_df = items_df.set_index('item_id')"
   ]
  },
  {
   "cell_type": "code",
   "execution_count": 16,
   "metadata": {},
   "outputs": [],
   "source": [
    "# Cosine similarity 계산\n",
    "from sklearn.metrics.pairwise import cosine_similarity\n",
    "matrix_dummy = rating_matrix.copy().fillna(0)\n",
    "country_similarity = cosine_similarity(matrix_dummy, matrix_dummy)\n",
    "country_similarity = pd.DataFrame(country_similarity, index=rating_matrix.index, columns=rating_matrix.index)"
   ]
  },
  {
   "cell_type": "code",
   "execution_count": 17,
   "metadata": {},
   "outputs": [],
   "source": [
    "# 추천하기\n",
    "def recommender(country, n_items=10, neighbor_size=11):                             # 주어진 국가와 유사도가 제일 높은 국가 k개를 써서 예측 rating이 높은 10개만 출력하기\n",
    "    # 현재 사용자의 모든 아이템에 대한 예상 평점 계산\n",
    "    predictions = []                                                                # 예상 선호도를 저장할 리스트 만들기\n",
    "    rated_index = rating_matrix.loc[country][rating_matrix.loc[country] > 0].index  # 현재 국가에 선호도가 존재하는 품목 확인(추천에서 제외하기 위함)\n",
    "    items = rating_matrix.loc[country].drop(rated_index)                            # 이미 선호도가 있는 품목은 제거\n",
    "    for item in items.index:                                                        # 각 품목에 대한 해당 국가의 예상 선호도 계산\n",
    "        predictions.append(cf_knn(country, item, neighbor_size))                    # cf_knn함수를 호출해서 해당 국가의 현재 품목에 대한 예상 선호도를 구해서 predictions에 추가\n",
    "    recommendations = pd.Series(data=predictions, index=items.index, dtype=float)   # 예상 선호도를 series형태로 변환해서 recommendations에 저장\n",
    "    recommendations = recommendations.sort_values(ascending=False)[:n_items]        # 예상 선호도가 높은 순서로 정렬해서 주어진 아이템 수(n_items)만큼 선택\n",
    "    recommended_items = items_df.loc[recommendations.index]['title']                # 추천 품목의 title만 뽑아냄\n",
    "    return recommended_items"
   ]
  },
  {
   "cell_type": "code",
   "execution_count": 29,
   "metadata": {},
   "outputs": [
    {
     "data": {
      "text/plain": [
       "item_id\n",
       "39                                           플라스틱과 그 제품\n",
       "72                                                   철강\n",
       "27           광물성 연료ㆍ광물유(鑛物油)와 이들의 증류물, 역청(瀝靑)물질, 광물성 왁스\n",
       "24    담배와 제조한 담배 대용물, 연소시키지 않고흡입하도록 만들어진 물품(니코틴을 함유하...\n",
       "55                                             인조스테이플섬유\n",
       "Name: title, dtype: object"
      ]
     },
     "execution_count": 29,
     "metadata": {},
     "output_type": "execute_result"
    }
   ],
   "source": [
    "recommender(1, 5, 16) # 1번 국가에 대해서 1번 국가와 비슷한 16개 나라를 이용하여 5개의 품목을 추천"
   ]
  },
  {
   "attachments": {},
   "cell_type": "markdown",
   "metadata": {},
   "source": [
    "### Precision@K"
   ]
  },
  {
   "cell_type": "code",
   "execution_count": 19,
   "metadata": {},
   "outputs": [],
   "source": [
    "# precision@k 함수로 만들기\n",
    "def precision_at_k(country, n_items, year, neighbor_size=11):\n",
    "    hit_df = ratings_all[ratings_all['year'].isin(year)]\n",
    "    hit_df = hit_df[hit_df['country']==idx_to_country[country]]\n",
    "    c_items = hit_df['품목코드'].unique().astype(int)\n",
    "    rec_items = recommender(country, n_items, neighbor_size).index.tolist()\n",
    "    hit_items = [i for i in c_items if i in rec_items]\n",
    "    precision = len(hit_items) / n_items\n",
    "    return precision"
   ]
  },
  {
   "cell_type": "code",
   "execution_count": 20,
   "metadata": {},
   "outputs": [],
   "source": [
    "# 해당년도 모든 나라에 대해서 precision@k 계산\n",
    "def precision_at_k_all(n_items, year, neighbor_size):\n",
    "    precision = []\n",
    "    c_len = len(rating_matrix)\n",
    "    for country in range(0, c_len):\n",
    "        precision.append(precision_at_k(country, n_items, year, neighbor_size))\n",
    "    return sum(precision) / c_len"
   ]
  },
  {
   "attachments": {},
   "cell_type": "markdown",
   "metadata": {},
   "source": [
    "### Recommender 최적 K(=neighbor size)값 찾기"
   ]
  },
  {
   "cell_type": "code",
   "execution_count": 21,
   "metadata": {},
   "outputs": [
    {
     "name": "stdout",
     "output_type": "stream",
     "text": [
      "[0.8610837438423646, 0.8610837438423649, 0.8620689655172413, 0.85320197044335, 0.8482758620689658, 0.8463054187192118]\n"
     ]
    }
   ],
   "source": [
    "year = [2013, 2014, 2015, 2016, 2017]\n",
    "\n",
    "Precision_at_K = []\n",
    "Neighbor_size = []\n",
    "for K in range(5, 35, 5):\n",
    "    Precision_at_K.append(precision_at_k_all(5, year, K))\n",
    "    Neighbor_size.append(K)\n",
    "print(Precision_at_K)"
   ]
  },
  {
   "cell_type": "code",
   "execution_count": 22,
   "metadata": {},
   "outputs": [
    {
     "data": {
      "image/png": "[encoded data removed]",
      "text/plain": [
       "<Figure size 640x480 with 1 Axes>"
      ]
     },
     "metadata": {},
     "output_type": "display_data"
    }
   ],
   "source": [
    "# Plot RMSE\n",
    "import matplotlib.pyplot as plt\n",
    "plt.plot(Neighbor_size, Precision_at_K)\n",
    "plt.xlabel('Neighbor Size')\n",
    "plt.ylabel('Precision@K')\n",
    "plt.show()"
   ]
  },
  {
   "cell_type": "code",
   "execution_count": 25,
   "metadata": {},
   "outputs": [
    {
     "name": "stdout",
     "output_type": "stream",
     "text": [
      "[0.8610837438423649, 0.8561576354679804, 0.8561576354679804, 0.8610837438423642, 0.8630541871921179, 0.8620689655172413, 0.8650246305418717, 0.8630541871921183]\n"
     ]
    }
   ],
   "source": [
    "year = [2013, 2014, 2015, 2016, 2017]\n",
    "\n",
    "Precision_at_K = []\n",
    "Neighbor_size = []\n",
    "for K in range(10, 18, 1):\n",
    "    Precision_at_K.append(precision_at_k_all(5, year, K))\n",
    "    Neighbor_size.append(K)\n",
    "print(Precision_at_K)"
   ]
  },
  {
   "cell_type": "code",
   "execution_count": 26,
   "metadata": {},
   "outputs": [
    {
     "data": {
      "image/png": "[encoded data removed]",
      "text/plain": [
       "<Figure size 640x480 with 1 Axes>"
      ]
     },
     "metadata": {},
     "output_type": "display_data"
    }
   ],
   "source": [
    "plt.plot(Neighbor_size, Precision_at_K)\n",
    "plt.xlabel('Neighbor Size')\n",
    "plt.ylabel('Precision@K')\n",
    "plt.show()"
   ]
  },
  {
   "attachments": {},
   "cell_type": "markdown",
   "metadata": {},
   "source": [
    "#### --> 최적 K값 16"
   ]
  },
  {
   "cell_type": "code",
   "execution_count": 28,
   "metadata": {},
   "outputs": [
    {
     "data": {
      "text/plain": [
       "0.8226600985221674"
      ]
     },
     "execution_count": 28,
     "metadata": {},
     "output_type": "execute_result"
    }
   ],
   "source": [
    "year = [2013, 2014, 2015]\n",
    "precision_at_k_all(5, year, 16)"
   ]
  },
  {
   "cell_type": "code",
   "execution_count": null,
   "metadata": {},
   "outputs": [],
   "source": []
  }
 ],
 "metadata": {
  "kernelspec": {
   "display_name": "seongju",
   "language": "python",
   "name": "python3"
  },
  "language_info": {
   "codemirror_mode": {
    "name": "ipython",
    "version": 3
   },
   "file_extension": ".py",
   "mimetype": "text/x-python",
   "name": "python",
   "nbconvert_exporter": "python",
   "pygments_lexer": "ipython3",
   "version": "3.7.9"
  },
  "orig_nbformat": 4
 },
 "nbformat": 4,
 "nbformat_minor": 2
}
