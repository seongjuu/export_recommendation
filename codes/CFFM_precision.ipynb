{
 "cells": [
  {
   "cell_type": "code",
   "execution_count": 67,
   "metadata": {},
   "outputs": [],
   "source": [
    "import pickle\n",
    "import pandas as pd\n",
    "import numpy as np\n",
    "from tqdm import tqdm"
   ]
  },
  {
   "cell_type": "code",
   "execution_count": 20,
   "metadata": {},
   "outputs": [],
   "source": [
    "# pickle 파일 불러오기\n",
    "result_13_18 = pd.read_csv('../processed/CFFM_predict_proba_13_18.csv')\n",
    "with open('../processed/country_to_idx.pkl', 'rb') as f:\n",
    "    country_to_idx = pickle.load(f)\n",
    "with open('../processed/idx_to_country.pkl', 'rb') as f:\n",
    "    idx_to_country = pickle.load(f)\n",
    "with open('../processed/new_exp_3years.pkl', 'rb') as f:\n",
    "    new_exp_3years = pickle.load(f)\n",
    "with open('../processed/new_exp_5years.pkl', 'rb') as f:\n",
    "    new_exp_5years = pickle.load(f)"
   ]
  },
  {
   "cell_type": "code",
   "execution_count": 50,
   "metadata": {},
   "outputs": [
    {
     "data": {
      "text/html": [
       "<div>\n",
       "<style scoped>\n",
       "    .dataframe tbody tr th:only-of-type {\n",
       "        vertical-align: middle;\n",
       "    }\n",
       "\n",
       "    .dataframe tbody tr th {\n",
       "        vertical-align: top;\n",
       "    }\n",
       "\n",
       "    .dataframe thead th {\n",
       "        text-align: right;\n",
       "    }\n",
       "</style>\n",
       "<table border=\"1\" class=\"dataframe\">\n",
       "  <thead>\n",
       "    <tr style=\"text-align: right;\">\n",
       "      <th></th>\n",
       "      <th>country_id</th>\n",
       "      <th>year</th>\n",
       "      <th>item_id</th>\n",
       "      <th>GDP_growth</th>\n",
       "      <th>pop_growth</th>\n",
       "      <th>preference</th>\n",
       "      <th>label</th>\n",
       "      <th>predict_proba</th>\n",
       "    </tr>\n",
       "  </thead>\n",
       "  <tbody>\n",
       "    <tr>\n",
       "      <th>0</th>\n",
       "      <td>0</td>\n",
       "      <td>2013</td>\n",
       "      <td>1.0</td>\n",
       "      <td>0.101959</td>\n",
       "      <td>0.287706</td>\n",
       "      <td>1.108999e-08</td>\n",
       "      <td>0</td>\n",
       "      <td>0.331913</td>\n",
       "    </tr>\n",
       "    <tr>\n",
       "      <th>1</th>\n",
       "      <td>0</td>\n",
       "      <td>2013</td>\n",
       "      <td>2.0</td>\n",
       "      <td>0.101959</td>\n",
       "      <td>0.287706</td>\n",
       "      <td>6.544139e-07</td>\n",
       "      <td>0</td>\n",
       "      <td>0.243521</td>\n",
       "    </tr>\n",
       "    <tr>\n",
       "      <th>2</th>\n",
       "      <td>0</td>\n",
       "      <td>2013</td>\n",
       "      <td>3.0</td>\n",
       "      <td>0.101959</td>\n",
       "      <td>0.287706</td>\n",
       "      <td>1.969499e-06</td>\n",
       "      <td>0</td>\n",
       "      <td>0.345073</td>\n",
       "    </tr>\n",
       "    <tr>\n",
       "      <th>3</th>\n",
       "      <td>0</td>\n",
       "      <td>2013</td>\n",
       "      <td>4.0</td>\n",
       "      <td>0.101959</td>\n",
       "      <td>0.287706</td>\n",
       "      <td>7.394813e-08</td>\n",
       "      <td>0</td>\n",
       "      <td>0.321218</td>\n",
       "    </tr>\n",
       "    <tr>\n",
       "      <th>4</th>\n",
       "      <td>0</td>\n",
       "      <td>2013</td>\n",
       "      <td>5.0</td>\n",
       "      <td>0.101959</td>\n",
       "      <td>0.287706</td>\n",
       "      <td>3.336427e-07</td>\n",
       "      <td>0</td>\n",
       "      <td>0.287764</td>\n",
       "    </tr>\n",
       "    <tr>\n",
       "      <th>...</th>\n",
       "      <td>...</td>\n",
       "      <td>...</td>\n",
       "      <td>...</td>\n",
       "      <td>...</td>\n",
       "      <td>...</td>\n",
       "      <td>...</td>\n",
       "      <td>...</td>\n",
       "      <td>...</td>\n",
       "    </tr>\n",
       "    <tr>\n",
       "      <th>64884</th>\n",
       "      <td>202</td>\n",
       "      <td>2018</td>\n",
       "      <td>80.0</td>\n",
       "      <td>0.194652</td>\n",
       "      <td>0.232127</td>\n",
       "      <td>7.380276e-07</td>\n",
       "      <td>0</td>\n",
       "      <td>0.099187</td>\n",
       "    </tr>\n",
       "    <tr>\n",
       "      <th>64885</th>\n",
       "      <td>202</td>\n",
       "      <td>2018</td>\n",
       "      <td>86.0</td>\n",
       "      <td>0.194652</td>\n",
       "      <td>0.232127</td>\n",
       "      <td>6.606483e-07</td>\n",
       "      <td>0</td>\n",
       "      <td>0.180853</td>\n",
       "    </tr>\n",
       "    <tr>\n",
       "      <th>64886</th>\n",
       "      <td>202</td>\n",
       "      <td>2018</td>\n",
       "      <td>88.0</td>\n",
       "      <td>0.194652</td>\n",
       "      <td>0.232127</td>\n",
       "      <td>2.919775e-06</td>\n",
       "      <td>0</td>\n",
       "      <td>0.181265</td>\n",
       "    </tr>\n",
       "    <tr>\n",
       "      <th>64887</th>\n",
       "      <td>202</td>\n",
       "      <td>2018</td>\n",
       "      <td>89.0</td>\n",
       "      <td>0.194652</td>\n",
       "      <td>0.232127</td>\n",
       "      <td>8.232880e-06</td>\n",
       "      <td>0</td>\n",
       "      <td>0.125569</td>\n",
       "    </tr>\n",
       "    <tr>\n",
       "      <th>64888</th>\n",
       "      <td>202</td>\n",
       "      <td>2018</td>\n",
       "      <td>92.0</td>\n",
       "      <td>0.194652</td>\n",
       "      <td>0.232127</td>\n",
       "      <td>2.188002e-06</td>\n",
       "      <td>0</td>\n",
       "      <td>0.152312</td>\n",
       "    </tr>\n",
       "  </tbody>\n",
       "</table>\n",
       "<p>64889 rows × 8 columns</p>\n",
       "</div>"
      ],
      "text/plain": [
       "       country_id  year  item_id  GDP_growth  pop_growth    preference  label  \\\n",
       "0               0  2013      1.0    0.101959    0.287706  1.108999e-08      0   \n",
       "1               0  2013      2.0    0.101959    0.287706  6.544139e-07      0   \n",
       "2               0  2013      3.0    0.101959    0.287706  1.969499e-06      0   \n",
       "3               0  2013      4.0    0.101959    0.287706  7.394813e-08      0   \n",
       "4               0  2013      5.0    0.101959    0.287706  3.336427e-07      0   \n",
       "...           ...   ...      ...         ...         ...           ...    ...   \n",
       "64884         202  2018     80.0    0.194652    0.232127  7.380276e-07      0   \n",
       "64885         202  2018     86.0    0.194652    0.232127  6.606483e-07      0   \n",
       "64886         202  2018     88.0    0.194652    0.232127  2.919775e-06      0   \n",
       "64887         202  2018     89.0    0.194652    0.232127  8.232880e-06      0   \n",
       "64888         202  2018     92.0    0.194652    0.232127  2.188002e-06      0   \n",
       "\n",
       "       predict_proba  \n",
       "0           0.331913  \n",
       "1           0.243521  \n",
       "2           0.345073  \n",
       "3           0.321218  \n",
       "4           0.287764  \n",
       "...              ...  \n",
       "64884       0.099187  \n",
       "64885       0.180853  \n",
       "64886       0.181265  \n",
       "64887       0.125569  \n",
       "64888       0.152312  \n",
       "\n",
       "[64889 rows x 8 columns]"
      ]
     },
     "execution_count": 50,
     "metadata": {},
     "output_type": "execute_result"
    }
   ],
   "source": [
    "result_13_18"
   ]
  },
  {
   "cell_type": "code",
   "execution_count": null,
   "metadata": {},
   "outputs": [],
   "source": []
  },
  {
   "cell_type": "code",
   "execution_count": 54,
   "metadata": {},
   "outputs": [],
   "source": [
    "# precision 함수로 만들기\n",
    "def FM_precision(country, current_year, new_exp_Nyears, proba_threshold, neighbor_size):\n",
    "    c_items = new_exp_Nyears[(idx_to_country[country], current_year)]\n",
    "    rec_13_18 = result_13_18[result_13_18['predict_proba'] > proba_threshold]\n",
    "    rec_items = rec_13_18[rec_13_18['country_id']==country].query('year==@current_year').item_id.tolist()\n",
    "    hit_items = [i for i in c_items if i in rec_items]\n",
    "    if len(rec_items) == 0:\n",
    "        precision = 0\n",
    "    else:\n",
    "        precision = len(hit_items) / len(rec_items)\n",
    "    return precision\n",
    "\n",
    "# 해당년도 모든 나라에 대해서 precision 계산\n",
    "def FM_precision_year(year, new_exp_Nyears, proba_threshold=0.5, neighbor_size=16):\n",
    "    precision = []\n",
    "    c_len = len(idx_to_country)\n",
    "    for country in range(0, c_len):\n",
    "        precision.append(FM_precision(country, year, new_exp_Nyears, proba_threshold, neighbor_size))\n",
    "    return sum(precision) / c_len\n",
    "\n",
    "# 전체 데이터에 대해서 precision 계산\n",
    "def FM_precision_all(n_year, proba_threshold=0.5, neighbor_size=16):\n",
    "    precision = []\n",
    "    c_len = len(idx_to_country)\n",
    "    if n_year == 3:\n",
    "        years = range(2013, 2019)\n",
    "        for country in range(0, c_len):\n",
    "            for year in years:\n",
    "                precision.append(FM_precision(country, year, new_exp_3years, proba_threshold, neighbor_size))\n",
    "    elif n_year == 5:\n",
    "        for country in range(0, c_len):\n",
    "            years = range(2013, 2017)\n",
    "            for year in years:\n",
    "                precision.append(FM_precision(country, year, new_exp_5years, proba_threshold, neighbor_size))\n",
    "    return sum(precision) / (c_len*len(years))"
   ]
  },
  {
   "cell_type": "code",
   "execution_count": 73,
   "metadata": {},
   "outputs": [],
   "source": [
    "def get_best_combination(n_year):\n",
    "    best_score = 0\n",
    "    best_thres = 0\n",
    "    for thres in tqdm(np.arange(0.1,0.9, 0.01)):\n",
    "        score = FM_precision_all(n_year, thres)\n",
    "        if score >= best_score:\n",
    "            best_score = score\n",
    "            best_thres = thres\n",
    "    return best_score, best_thres"
   ]
  },
  {
   "cell_type": "code",
   "execution_count": 56,
   "metadata": {},
   "outputs": [
    {
     "data": {
      "text/plain": [
       "0.4311314881709464"
      ]
     },
     "execution_count": 56,
     "metadata": {},
     "output_type": "execute_result"
    }
   ],
   "source": [
    "# 2018년도 모든 나라에 대해서 향후 3년 내의 precision 계산\n",
    "FM_precision_year(2018, new_exp_3years)"
   ]
  },
  {
   "cell_type": "code",
   "execution_count": 58,
   "metadata": {},
   "outputs": [
    {
     "data": {
      "text/plain": [
       "0.3412232184148822"
      ]
     },
     "execution_count": 58,
     "metadata": {},
     "output_type": "execute_result"
    }
   ],
   "source": [
    "# 전체 연도 모든 나라에 대해서 향후 3년 내의 precision 계산\n",
    "FM_precision_all(3, 0.5)"
   ]
  },
  {
   "cell_type": "code",
   "execution_count": 69,
   "metadata": {},
   "outputs": [
    {
     "name": "stderr",
     "output_type": "stream",
     "text": [
      "  0%|          | 0/80 [00:00<?, ?it/s]"
     ]
    },
    {
     "name": "stderr",
     "output_type": "stream",
     "text": [
      "100%|██████████| 80/80 [03:00<00:00,  2.26s/it]\n"
     ]
    },
    {
     "data": {
      "text/plain": [
       "(0.4748295007823885, 0.30999999999999994)"
      ]
     },
     "execution_count": 69,
     "metadata": {},
     "output_type": "execute_result"
    }
   ],
   "source": [
    "get_best_combination(3)"
   ]
  },
  {
   "cell_type": "code",
   "execution_count": 70,
   "metadata": {},
   "outputs": [
    {
     "data": {
      "text/plain": [
       "0.33092084541871736"
      ]
     },
     "execution_count": 70,
     "metadata": {},
     "output_type": "execute_result"
    }
   ],
   "source": [
    "# 2016년도 모든 나라에 대해서 향후 5년 내의 precision 계산\n",
    "FM_precision_year(2016, new_exp_5years)"
   ]
  },
  {
   "cell_type": "code",
   "execution_count": 74,
   "metadata": {},
   "outputs": [
    {
     "data": {
      "text/plain": [
       "0.36352755302861633"
      ]
     },
     "execution_count": 74,
     "metadata": {},
     "output_type": "execute_result"
    }
   ],
   "source": [
    "# 전체 연도 모든 나라에 대해서 향후 5년 내의 precision 계산\n",
    "FM_precision_all(5, 0.5)"
   ]
  },
  {
   "cell_type": "code",
   "execution_count": 75,
   "metadata": {},
   "outputs": [
    {
     "name": "stderr",
     "output_type": "stream",
     "text": [
      "100%|██████████| 80/80 [01:30<00:00,  1.14s/it]\n"
     ]
    },
    {
     "data": {
      "text/plain": [
       "(0.5535778443304197, 0.2599999999999999)"
      ]
     },
     "execution_count": 75,
     "metadata": {},
     "output_type": "execute_result"
    }
   ],
   "source": [
    "get_best_combination(5)"
   ]
  },
  {
   "cell_type": "code",
   "execution_count": null,
   "metadata": {},
   "outputs": [],
   "source": []
  }
 ],
 "metadata": {
  "kernelspec": {
   "display_name": "ns",
   "language": "python",
   "name": "python3"
  },
  "language_info": {
   "codemirror_mode": {
    "name": "ipython",
    "version": 3
   },
   "file_extension": ".py",
   "mimetype": "text/x-python",
   "name": "python",
   "nbconvert_exporter": "python",
   "pygments_lexer": "ipython3",
   "version": "3.7.16"
  },
  "orig_nbformat": 4
 },
 "nbformat": 4,
 "nbformat_minor": 2
}
